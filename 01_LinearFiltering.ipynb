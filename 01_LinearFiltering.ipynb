{
 "cells": [
  {
   "cell_type": "markdown",
   "metadata": {
    "colab_type": "text",
    "id": "wy02Zd9GY10a"
   },
   "source": [
    "# Assignment 1.1: Linear Filtering"
   ]
  },
  {
   "cell_type": "markdown",
   "metadata": {
    "colab_type": "text",
    "id": "D0pzSZAqY10f"
   },
   "source": [
    "Welcome back! We're going to get you started on filtering basics, and then let you explore on your own."
   ]
  },
  {
   "cell_type": "code",
   "execution_count": null,
   "metadata": {
    "colab": {},
    "colab_type": "code",
    "id": "oVnZ6BXaHn9Y"
   },
   "outputs": [],
   "source": [
    "%matplotlib inline \n",
    "import matplotlib.pyplot as plt\n",
    "import numpy as np\n",
    "import skimage.io as io\n",
    "from scipy import signal"
   ]
  },
  {
   "cell_type": "markdown",
   "metadata": {
    "colab_type": "text",
    "id": "97B4pTokY10h"
   },
   "source": [
    "First, we're going to apply the median filter.\n",
    "\n",
    "Step 1: Read in the \"flower.png\" image and display it:"
   ]
  },
  {
   "cell_type": "code",
   "execution_count": null,
   "metadata": {
    "colab": {
     "base_uri": "https://localhost:8080/",
     "height": 269
    },
    "colab_type": "code",
    "id": "1G7ZUHH7YcuK",
    "outputId": "74415589-5026-4334-ae2a-f084da7ca372"
   },
   "outputs": [],
   "source": [
    "# Load a color image\n",
    "img = io.imread('/content/drive/My Drive/AI4ALL-PCam/Images/flower.png')/255.0\n",
    "plt.imshow(img)\n",
    "plt.show()\n"
   ]
  },
  {
   "cell_type": "markdown",
   "metadata": {
    "colab_type": "text",
    "id": "WNP3nvvdY10v"
   },
   "source": [
    "Step 2: Let's try applying the box filter to this image. (The box filter is used for blurring)"
   ]
  },
  {
   "cell_type": "code",
   "execution_count": null,
   "metadata": {
    "colab": {
     "base_uri": "https://localhost:8080/",
     "height": 269
    },
    "colab_type": "code",
    "id": "gQuw-dxvYejr",
    "outputId": "f32a98c4-6c4c-4547-d156-cb846736dff6"
   },
   "outputs": [],
   "source": [
    "k = 20\n",
    "\n",
    "blur = np.ones((k,k),np.float32)/(k*k)\n",
    "blurred = np.empty(img.shape, np.float64)\n",
    "\n",
    "for i in range(3):\n",
    "    blurred[:,:,i] = signal.convolve2d(img[:,:, i], blur, 'same')\n"
   ]
  },
  {
   "cell_type": "code",
   "execution_count": null,
   "metadata": {},
   "outputs": [],
   "source": [
    "plt.subplot(121)\n",
    "plt.imshow(blurred)\n",
    "plt.subplot(122)\n",
    "plt.imshow(img)\n",
    "plt.show()"
   ]
  },
  {
   "cell_type": "markdown",
   "metadata": {},
   "source": [
    "Step 3: Try the scipy version of box filtering and compare the outputs. The scipy function is scipy.ndimage.uniform_filter"
   ]
  },
  {
   "cell_type": "code",
   "execution_count": null,
   "metadata": {},
   "outputs": [],
   "source": [
    "from scipy import ndimage\n",
    "\n",
    "blurred2 = np.empty(img.shape, np.float64)\n",
    "\n",
    "for i in range(3):\n",
    "    blurred2[:,:,i] = ndimage.uniform_filter(img[:,:,i], 20, mode='constant')\n",
    "\n",
    "plt.subplot(121)\n",
    "plt.imshow(blurred2)\n",
    "plt.subplot(122)\n",
    "plt.imshow(img)\n",
    "plt.show()"
   ]
  },
  {
   "cell_type": "markdown",
   "metadata": {},
   "source": [
    "Step 4: Let's compare the outputs by calculating their difference. It should be very small"
   ]
  },
  {
   "cell_type": "code",
   "execution_count": null,
   "metadata": {},
   "outputs": [],
   "source": [
    "s = np.sum(blurred - blurred2)\n",
    "print(s)"
   ]
  },
  {
   "cell_type": "markdown",
   "metadata": {
    "colab_type": "text",
    "id": "ItCew1WBY11C"
   },
   "source": [
    "## Complete the following tasks: \n",
    "\n",
    "We'll come back to the flower picture. For now, let's read in the image \"cameraman.png\" and try to de-noise it:"
   ]
  },
  {
   "cell_type": "markdown",
   "metadata": {
    "colab_type": "text",
    "id": "o5Zo54bJY11D"
   },
   "source": [
    "1. Try to denoise the cameraman image with ndimage.gaussian_filter"
   ]
  },
  {
   "cell_type": "markdown",
   "metadata": {
    "colab_type": "text",
    "id": "rab3BwEDY11D"
   },
   "source": [
    "2. Use filters to shift the image to the right by 10 pixels. "
   ]
  },
  {
   "cell_type": "markdown",
   "metadata": {
    "colab_type": "text",
    "id": "lQLsX4RFY11D"
   },
   "source": [
    "3. There are other useful filters. See https://en.wikipedia.org/wiki/Kernel_(image_processing) for a (very) small sample. \n",
    "Now, look up the Sobel filter and implement one in the x-direction."
   ]
  },
  {
   "cell_type": "code",
   "execution_count": null,
   "metadata": {
    "colab": {
     "base_uri": "https://localhost:8080/",
     "height": 1000
    },
    "colab_type": "code",
    "id": "nFAN0UDzRx1Y",
    "outputId": "a11e9e95-04e9-47c3-8fca-b77ccd5a2fac"
   },
   "outputs": [],
   "source": [
    "## To be removed for actual assignment \n",
    "img = io.imread('/content/drive/My Drive/AI4ALL-PCam/Images/cameraman.png',np.float64)\n",
    "plt.imshow(img, cmap='gray')\n",
    "plt.show()\n",
    "\n",
    "# Gaussian Blurring\n",
    "kernel_size = \n",
    "gauss = \n",
    "\n",
    "plt.imshow(gauss, cmap='gray')\n",
    "plt.show()\n",
    "\n"
   ]
  },
  {
   "cell_type": "code",
   "execution_count": null,
   "metadata": {},
   "outputs": [],
   "source": [
    "# Image Shifting \n",
    "direction = -1 # 0 if right, -1 if left \n",
    "k = 40\n",
    "\n",
    "shift = \n",
    "shift[0, direction] = \n",
    "img_shifted = signal.convolve2d(img, shift, boundary='wrap')\n",
    "\n",
    "plt.imshow(img_shifted, cmap='gray')\n",
    "plt.show()\n"
   ]
  },
  {
   "cell_type": "code",
   "execution_count": null,
   "metadata": {},
   "outputs": [],
   "source": [
    "# Sobel Filtering\n",
    "k = 3\n",
    "d = 1\n",
    "\n",
    "sobelx = \n",
    "sobely = \n",
    "\n",
    "plt.imshow(sobelx)\n",
    "plt.show()\n",
    "\n",
    "plt.imshow(sobely)\n",
    "plt.show()"
   ]
  },
  {
   "cell_type": "markdown",
   "metadata": {
    "colab_type": "text",
    "id": "Y3gMMNsNHTFp"
   },
   "source": [
    "## Challenge tasks:\n",
    "\n"
   ]
  },
  {
   "cell_type": "code",
   "execution_count": null,
   "metadata": {
    "colab": {
     "base_uri": "https://localhost:8080/",
     "height": 269
    },
    "colab_type": "code",
    "id": "edp4LuwwMeNd",
    "outputId": "06d88d41-2f64-4703-bced-4151c5ad6ce5"
   },
   "outputs": [],
   "source": [
    "img = cv2.imread('/content/drive/My Drive/AI4ALL-PCam/lawrencecamera.jpg')\n",
    "plt.imshow(img)\n",
    "plt.show()"
   ]
  },
  {
   "cell_type": "markdown",
   "metadata": {
    "colab_type": "text",
    "id": "PwWXq1AeHvwC"
   },
   "source": [
    "**Challenge 1**\n",
    "\n",
    "The picture above is said to be of the world's first camera. But wait, who took that picture then? \n",
    "\n",
    "The picture was actually taken in 1900 of the World's largest camera which was built by George R. Lawrence. Lawrence was commisioned by Chicago & Alton Railway to take photographs of their newest train: the Alton Limited Locomotive. The camera weighed 1400 pounds and required 15 men to operate it. Lawrence's pictures won the Grand Prize of the World for Photographic Excellence at the Exposition Universelle, the world’s fair in Paris in 1900. (Source: [Northwestern Campus Life](https://www.northwestern.edu/magazine/fall2016/campuslife/then-kite-click-george-lawrence-chicago-aerial-photographer.html)).\n",
    "\n",
    "\n",
    "While this might not have been the world's first camera, can you use filtering to make it take a picture of itself? Your challenge task is to use filtering that will make the camera appear as it's looking at itself . "
   ]
  },
  {
   "cell_type": "code",
   "execution_count": null,
   "metadata": {
    "colab": {
     "base_uri": "https://localhost:8080/",
     "height": 773
    },
    "colab_type": "code",
    "id": "5Oc_TvGRQq7E",
    "outputId": "8929d3f8-dc2e-427e-ead6-3d7ba287e1b7"
   },
   "outputs": [],
   "source": [
    "# to be removed for actual handout\n",
    "# challenge 1\n",
    "direction = -1 # 0 if right, -1 if left \n",
    "k = 400\n",
    "\n",
    "shift = \n",
    "shift[0, direction] = \n",
    "img_shifted = \n",
    "plt.imshow(img_shifted)\n",
    "plt.show()\n"
   ]
  }
 ],
 "metadata": {
  "colab": {
   "collapsed_sections": [],
   "name": "Assignment_1p1.ipynb",
   "provenance": [],
   "toc_visible": true,
   "version": "0.3.2"
  },
  "kernelspec": {
   "display_name": "Python 3",
   "language": "python",
   "name": "python3"
  },
  "language_info": {
   "codemirror_mode": {
    "name": "ipython",
    "version": 3
   },
   "file_extension": ".py",
   "mimetype": "text/x-python",
   "name": "python",
   "nbconvert_exporter": "python",
   "pygments_lexer": "ipython3",
   "version": "3.6.5"
  }
 },
 "nbformat": 4,
 "nbformat_minor": 1
}
