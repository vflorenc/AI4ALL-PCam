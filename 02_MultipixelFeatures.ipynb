{
 "cells": [
  {
   "cell_type": "code",
   "execution_count": 1,
   "metadata": {},
   "outputs": [
    {
     "name": "stdout",
     "output_type": "stream",
     "text": [
      "00_Introduction.ipynb           02_MultipixelFeatures_Solution.ipynb\r\n",
      "00_Introduction_Solution.ipynb  Classifiers.ipynb\r\n",
      "01_NeuralNetworks.ipynb         t-sne.ipynb\r\n",
      "02_MultipixelFeatures.ipynb\r\n"
     ]
    }
   ],
   "source": [
    "!ls"
   ]
  },
  {
   "cell_type": "markdown",
   "metadata": {},
   "source": [
    "If you don't see your `drive` folder in the output above, run the cell below to mount the drive folder"
   ]
  },
  {
   "cell_type": "code",
   "execution_count": null,
   "metadata": {},
   "outputs": [],
   "source": [
    "from google.colab import drive\n",
    "drive.mount('/content/drive')"
   ]
  },
  {
   "cell_type": "markdown",
   "metadata": {},
   "source": [
    "## Imports"
   ]
  },
  {
   "cell_type": "code",
   "execution_count": 41,
   "metadata": {},
   "outputs": [],
   "source": [
    "import skimage.io as io\n",
    "import matplotlib.pyplot as plt\n",
    "import numpy as np\n",
    "import glob, os\n",
    "from sklearn.linear_model import LogisticRegression\n",
    "\n",
    "## Your code here - make sure your data_dir string is the correct path for locating your data ##\n",
    "data_dir='/content/drive/My Drive/AI4ALL-PCam/data/'\n",
    "\n",
    "if(os.path.exists(data_dir)):\n",
    "    print('Your path exists')"
   ]
  },
  {
   "cell_type": "markdown",
   "metadata": {},
   "source": [
    "## Review\n",
    "\n",
    "In the last section, we achieved ~70% on our test set. We can probably do better than that though. \n",
    "\n",
    "There is a lot of information, such as individual pixel colors, that is not captured by average pixel color. \n",
    "\n",
    "For example, the code below will generate two images with very similar average pixel colors which look _very_ different."
   ]
  },
  {
   "cell_type": "code",
   "execution_count": 7,
   "metadata": {},
   "outputs": [
    {
     "name": "stdout",
     "output_type": "stream",
     "text": [
      "image 1 average:  [136.9  111.58 131.69]\n",
      "image 2 average:  [137. 112. 132.]\n"
     ]
    },
    {
     "data": {
      "image/png": "[encoded data removed]",
      "text/plain": [
       "<Figure size 432x288 with 2 Axes>"
      ]
     },
     "metadata": {
      "needs_background": "light"
     },
     "output_type": "display_data"
    }
   ],
   "source": [
    "image1 = np.random.randint(0,255, (10,10,3))\n",
    "avg = np.average(image1, axis=(0,1))\n",
    "print('image 1 average: ', avg)\n",
    "\n",
    "image2 = np.ones((96,96,3), dtype=int)*np.round(avg).astype(int)\n",
    "print('image 2 average: ', np.average(image2, axis=(0,1)))\n",
    "plt.subplot(121); plt.imshow(image1)\n",
    "plt.subplot(122); plt.imshow(image2)\n",
    "plt.show()"
   ]
  },
  {
   "cell_type": "markdown",
   "metadata": {},
   "source": [
    "We can see that these two images look very different even though they have the same average pixel color.\n",
    "\n",
    "So, now we are going to use histograms of pixel values as a feature. \n",
    "\n",
    "A histogram of pixel values counts how many pixels have each value (0-255). \n"
   ]
  },
  {
   "cell_type": "markdown",
   "metadata": {},
   "source": [
    "### Converting to grayscale\n",
    "\n",
    "Each pixel currently has 3 values (R,G,B). To make the pixel counting easier, we want to condense the image into one channel - grayscale. \n",
    "\n",
    "We can calculate this image's grayscale equivalent with this formula:\n",
    "\n",
    "    grayscale = 0.2989 * R + 0.5870 * G + 0.1140 * B\n",
    "    \n",
    "Implement this formula in the function below\n",
    "\n",
    "hint 1: You can select the R, G, and B channels of the image by using `image[:,:,c]` where c is the channel number\n",
    "\n",
    "hint 2: The channels are in the order you would expect - R, G, then B\n",
    "\n",
    "hint 3: Remember that indices start at 0, not 1"
   ]
  },
  {
   "cell_type": "code",
   "execution_count": 8,
   "metadata": {},
   "outputs": [],
   "source": [
    "def rgb_to_grayscale(image):\n",
    "    ## Your code here ##\n",
    "    grayscale = \n",
    "    return grayscale"
   ]
  },
  {
   "cell_type": "markdown",
   "metadata": {},
   "source": [
    "Test this function on image1 from above"
   ]
  },
  {
   "cell_type": "code",
   "execution_count": 10,
   "metadata": {},
   "outputs": [
    {
     "name": "stdout",
     "output_type": "stream",
     "text": [
      "(10, 10)\n"
     ]
    },
    {
     "data": {
      "image/png": "[encoded data removed]",
      "text/plain": [
       "<Figure size 432x288 with 1 Axes>"
      ]
     },
     "metadata": {
      "needs_background": "light"
     },
     "output_type": "display_data"
    }
   ],
   "source": [
    "### Your code here ###\n",
    "gray = \n",
    "##\n",
    "gray = np.round(gray).astype('int')\n",
    "plt.imshow(gray,cmap=plt.get_cmap('gray'), vmin=0, vmax=255); plt.show()"
   ]
  },
  {
   "cell_type": "markdown",
   "metadata": {},
   "source": [
    "Now, we want to look at the distribution of intensity values between 0 and 255. We can do that using `plt.hist` and `gray.ravel()`  "
   ]
  },
  {
   "cell_type": "code",
   "execution_count": 11,
   "metadata": {},
   "outputs": [
    {
     "data": {
      "image/png": "[encoded data removed]",
      "text/plain": [
       "<Figure size 432x288 with 1 Axes>"
      ]
     },
     "metadata": {
      "needs_background": "light"
     },
     "output_type": "display_data"
    }
   ],
   "source": [
    "plt.hist(gray.ravel(),256,[0,256]); plt.show()"
   ]
  },
  {
   "cell_type": "markdown",
   "metadata": {},
   "source": [
    "Now, do the same for image2"
   ]
  },
  {
   "cell_type": "code",
   "execution_count": 3,
   "metadata": {},
   "outputs": [
    {
     "ename": "NameError",
     "evalue": "name 'rgb_to_grayscale' is not defined",
     "output_type": "error",
     "traceback": [
      "\u001b[0;31m---------------------------------------------------------------------------\u001b[0m",
      "\u001b[0;31mNameError\u001b[0m                                 Traceback (most recent call last)",
      "\u001b[0;32m<ipython-input-3-79bd28b46b89>\u001b[0m in \u001b[0;36m<module>\u001b[0;34m\u001b[0m\n\u001b[1;32m      1\u001b[0m \u001b[0;31m## Your code here ##\u001b[0m\u001b[0;34m\u001b[0m\u001b[0;34m\u001b[0m\u001b[0m\n\u001b[1;32m      2\u001b[0m \u001b[0;31m# Convert image2 to gray2\u001b[0m\u001b[0;34m\u001b[0m\u001b[0;34m\u001b[0m\u001b[0m\n\u001b[0;32m----> 3\u001b[0;31m \u001b[0mgray2\u001b[0m \u001b[0;34m=\u001b[0m \u001b[0mrgb_to_grayscale\u001b[0m\u001b[0;34m(\u001b[0m\u001b[0mimage2\u001b[0m\u001b[0;34m)\u001b[0m\u001b[0;34m\u001b[0m\u001b[0m\n\u001b[0m\u001b[1;32m      4\u001b[0m \u001b[0;31m##\u001b[0m\u001b[0;34m\u001b[0m\u001b[0;34m\u001b[0m\u001b[0m\n\u001b[1;32m      5\u001b[0m \u001b[0mplt\u001b[0m\u001b[0;34m.\u001b[0m\u001b[0mimshow\u001b[0m\u001b[0;34m(\u001b[0m\u001b[0mgray2\u001b[0m\u001b[0;34m)\u001b[0m\u001b[0;34m;\u001b[0m \u001b[0mplt\u001b[0m\u001b[0;34m.\u001b[0m\u001b[0mshow\u001b[0m\u001b[0;34m(\u001b[0m\u001b[0;34m)\u001b[0m\u001b[0;34m\u001b[0m\u001b[0m\n",
      "\u001b[0;31mNameError\u001b[0m: name 'rgb_to_grayscale' is not defined"
     ]
    }
   ],
   "source": [
    "## Your code here ##\n",
    "# Convert image2 to gray2 with rgb_to_grayscale\n",
    "gray2 = \n",
    "##\n",
    "plt.imshow(gray2); plt.show()\n",
    "# Round gray2 and convert to integer type\n",
    "gray2 = np.round(gray2).astype(int)"
   ]
  },
  {
   "cell_type": "code",
   "execution_count": 13,
   "metadata": {},
   "outputs": [
    {
     "data": {
      "image/png": "[encoded data removed]",
      "text/plain": [
       "<Figure size 432x288 with 1 Axes>"
      ]
     },
     "metadata": {
      "needs_background": "light"
     },
     "output_type": "display_data"
    }
   ],
   "source": [
    "## Your code here ##\n",
    "# Show histogram of intensity values\n",
    "# Don't forget to ravel the image into a 1d array of pixels! If you do forget, the cell will run for a long time)\n",
    "plt.hist() \n",
    "plt.show()"
   ]
  },
  {
   "cell_type": "markdown",
   "metadata": {},
   "source": [
    "So we can see that the histograms of pixel values look different even though the average pixel value looks the same.\n",
    "\n",
    "This method gives us 256 data points for each patch, but maybe we can group some bins together.\n",
    "\n",
    "Instead of using all 256 bins, let's use 25"
   ]
  },
  {
   "cell_type": "code",
   "execution_count": 14,
   "metadata": {},
   "outputs": [
    {
     "data": {
      "image/png": "[encoded data removed]",
      "text/plain": [
       "<Figure size 432x288 with 1 Axes>"
      ]
     },
     "metadata": {
      "needs_background": "light"
     },
     "output_type": "display_data"
    },
    {
     "data": {
      "image/png": "[encoded data removed]",
      "text/plain": [
       "<Figure size 432x288 with 1 Axes>"
      ]
     },
     "metadata": {
      "needs_background": "light"
     },
     "output_type": "display_data"
    }
   ],
   "source": [
    "plt.subplot(211);\n",
    "plt.hist(gray.ravel(),25,[0,256]); plt.show()\n",
    "plt.subplot(212);\n",
    "plt.hist(gray2.ravel(),25,[0,256]); plt.show()"
   ]
  },
  {
   "cell_type": "markdown",
   "metadata": {},
   "source": [
    "Fewer features generally means less overfitting and quicker training, so we will stick with 25 bins for now.\n",
    "\n",
    "If we want to save these features to a variable instead of plotting them, we can use `np.histogram` (`plt.hist` calls `np.histogram`under the hood)\n",
    "\n",
    "This will output the histogram features and the bin edges. \n",
    "\n",
    "hint 1: We can ignore the big edges by putting a `_` as the second output variable\n",
    "\n",
    "hint 2: Ravel the image (with `grey_image.ravel()`) before passing it and give the parameter `bins` to `np.histogram`"
   ]
  },
  {
   "cell_type": "code",
   "execution_count": 15,
   "metadata": {},
   "outputs": [],
   "source": [
    "def calc_gray_hist_features(gray_image, num_bins = 25):\n",
    "    ## Your code here ##\n",
    "    hist, _ = \n",
    "    ##\n",
    "    return hist"
   ]
  },
  {
   "cell_type": "markdown",
   "metadata": {},
   "source": [
    "Test this function on gray and gray2"
   ]
  },
  {
   "cell_type": "code",
   "execution_count": 4,
   "metadata": {},
   "outputs": [
    {
     "ename": "NameError",
     "evalue": "name 'calc_gray_hist_features' is not defined",
     "output_type": "error",
     "traceback": [
      "\u001b[0;31m---------------------------------------------------------------------------\u001b[0m",
      "\u001b[0;31mNameError\u001b[0m                                 Traceback (most recent call last)",
      "\u001b[0;32m<ipython-input-4-7cc7ee1de31c>\u001b[0m in \u001b[0;36m<module>\u001b[0;34m\u001b[0m\n\u001b[0;32m----> 1\u001b[0;31m \u001b[0mf1\u001b[0m \u001b[0;34m=\u001b[0m \u001b[0mcalc_gray_hist_features\u001b[0m\u001b[0;34m(\u001b[0m\u001b[0mgray\u001b[0m\u001b[0;34m,\u001b[0m \u001b[0;36m25\u001b[0m\u001b[0;34m)\u001b[0m\u001b[0;34m\u001b[0m\u001b[0m\n\u001b[0m\u001b[1;32m      2\u001b[0m \u001b[0mprint\u001b[0m\u001b[0;34m(\u001b[0m\u001b[0;34m'gray features: '\u001b[0m\u001b[0;34m,\u001b[0m \u001b[0mf1\u001b[0m\u001b[0;34m)\u001b[0m\u001b[0;34m\u001b[0m\u001b[0m\n\u001b[1;32m      3\u001b[0m \u001b[0mf2\u001b[0m \u001b[0;34m=\u001b[0m \u001b[0mcalc_gray_hist_features\u001b[0m\u001b[0;34m(\u001b[0m\u001b[0mgray2\u001b[0m\u001b[0;34m,\u001b[0m \u001b[0;36m25\u001b[0m\u001b[0;34m)\u001b[0m\u001b[0;34m\u001b[0m\u001b[0m\n\u001b[1;32m      4\u001b[0m \u001b[0mprint\u001b[0m\u001b[0;34m(\u001b[0m\u001b[0;34m'gray2 features: '\u001b[0m\u001b[0;34m,\u001b[0m \u001b[0mf2\u001b[0m\u001b[0;34m)\u001b[0m\u001b[0;34m\u001b[0m\u001b[0m\n",
      "\u001b[0;31mNameError\u001b[0m: name 'calc_gray_hist_features' is not defined"
     ]
    }
   ],
   "source": [
    "f1 = calc_gray_hist_features(gray, 25)\n",
    "print('gray features: ', f1)\n",
    "f2 = calc_gray_hist_features(gray2, 25)\n",
    "print('gray2 features: ', f2)"
   ]
  },
  {
   "cell_type": "markdown",
   "metadata": {},
   "source": [
    "### Test grayscale function on PCam\n",
    "\n",
    "Let's test this process on an image from our PCam dataset\n",
    "\n",
    "Step 1: Convert to grayscale\n"
   ]
  },
  {
   "cell_type": "code",
   "execution_count": 23,
   "metadata": {},
   "outputs": [
    {
     "data": {
      "text/plain": [
       "<matplotlib.image.AxesImage at 0x7fceabe36438>"
      ]
     },
     "execution_count": 23,
     "metadata": {},
     "output_type": "execute_result"
    },
    {
     "data": {
      "image/png": "[encoded data removed]",
      "text/plain": [
       "<Figure size 432x288 with 1 Axes>"
      ]
     },
     "metadata": {
      "needs_background": "light"
     },
     "output_type": "display_data"
    }
   ],
   "source": [
    "# Save a string containing the path to a PCam training image\n",
    "image_path1 = data_dir + ''\n",
    "image1 =\n",
    "gray1 = \n",
    "plt.imshow(gray1, cmap='gray'); plt.show()"
   ]
  },
  {
   "cell_type": "markdown",
   "metadata": {},
   "source": [
    "Step 2: View histogram of pixels"
   ]
  },
  {
   "cell_type": "code",
   "execution_count": 24,
   "metadata": {},
   "outputs": [
    {
     "data": {
      "image/png": "[encoded data removed]",
      "text/plain": [
       "<Figure size 432x288 with 1 Axes>"
      ]
     },
     "metadata": {
      "needs_background": "light"
     },
     "output_type": "display_data"
    }
   ],
   "source": []
  },
  {
   "cell_type": "markdown",
   "metadata": {},
   "source": [
    "Step 3: Calculate histogram features with the function we defined (`calc_gray_hist_features`)"
   ]
  },
  {
   "cell_type": "code",
   "execution_count": 26,
   "metadata": {},
   "outputs": [
    {
     "name": "stdout",
     "output_type": "stream",
     "text": [
      "[  4   6  28  42  70 113 155 201 234 299 342 387 436 506 494 571 596 626\n",
      " 641 588 549 481 499 681 667]\n"
     ]
    }
   ],
   "source": [
    "features = \n",
    "print(features)"
   ]
  },
  {
   "cell_type": "markdown",
   "metadata": {},
   "source": [
    "## Train a classifier on histogram features\n",
    "\n",
    "We want to follow a similar procedure to yesterday for loading the training data.\n",
    "\n",
    "Gather all of the file directories for the train, valid, and test splits - make sure your file paths are correct"
   ]
  },
  {
   "cell_type": "code",
   "execution_count": 43,
   "metadata": {},
   "outputs": [],
   "source": [
    "train_path_1 = data_dir + 'train/1/*'\n",
    "train_path_0 = data_dir + 'train/0/*'\n",
    "train_files_1 = glob.glob(train_path_1)\n",
    "train_files_0 = glob.glob(train_path_0)\n",
    "train_y = np.concatenate((np.ones(len(train_files_1)), np.zeros(len(train_files_0))))\n",
    "train_images = [io.imread(f) for f in train_files_1 + train_files_0]\n",
    "\n",
    "\n",
    "valid_path_1 = data_dir + 'valid/1/*'\n",
    "valid_path_0 = data_dir + 'valid/0/*'\n",
    "valid_files_1 = glob.glob(valid_path_1)\n",
    "valid_files_0 = glob.glob(valid_path_0)\n",
    "valid_y = np.concatenate((np.ones(len(valid_files_1)), np.zeros(len(valid_files_0))))\n",
    "valid_images = [io.imread(f) for f in valid_files_1 + valid_files_0]\n",
    "\n",
    "test_path_1 = data_dir + 'test/1/*'\n",
    "test_path_0 = data_dir + 'test/0/*'\n",
    "test_files_1 = glob.glob(test_path_1)\n",
    "test_files_0 = glob.glob(test_path_0)\n",
    "test_y = np.concatenate((np.ones(len(test_files_1)), np.zeros(len(test_files_0))))\n",
    "test_images = [io.imread(f) for f in test_files_1+test_files_0]"
   ]
  },
  {
   "cell_type": "markdown",
   "metadata": {},
   "source": [
    "Now that we've reloaded the images from yesterday, create the new feature array using `calc_gray_hist_features`"
   ]
  },
  {
   "cell_type": "code",
   "execution_count": 44,
   "metadata": {},
   "outputs": [],
   "source": [
    "hist_gray_train_X = np.empty((len(train_images), 25))\n",
    "for index, train_image in enumerate(train_images):\n",
    "    ### Your code here ##\n",
    "    gray_image = \n",
    "    hist_gray_train_X[index, :] = \n",
    "    ##"
   ]
  },
  {
   "cell_type": "markdown",
   "metadata": {},
   "source": [
    "Initialize, train, and score a LogisticRegression classifier on the training set - Review the Introduction notebook for help on this one"
   ]
  },
  {
   "cell_type": "code",
   "execution_count": 45,
   "metadata": {},
   "outputs": [
    {
     "name": "stdout",
     "output_type": "stream",
     "text": [
      "0.77445\n"
     ]
    },
    {
     "name": "stderr",
     "output_type": "stream",
     "text": [
      "/home/vflorenc/local-learning/lib/python3.6/site-packages/sklearn/linear_model/logistic.py:432: FutureWarning: Default solver will be changed to 'lbfgs' in 0.22. Specify a solver to silence this warning.\n",
      "  FutureWarning)\n"
     ]
    }
   ],
   "source": [
    "### Your code here ###\n",
    "clf = \n",
    "clf.\n",
    "train_score_gray = \n",
    "##\n",
    "print(train_score_gray)"
   ]
  },
  {
   "cell_type": "markdown",
   "metadata": {},
   "source": [
    "Create the validation set features"
   ]
  },
  {
   "cell_type": "code",
   "execution_count": 46,
   "metadata": {},
   "outputs": [],
   "source": [
    "hist_gray_valid_X = np.empty((len(valid_images), 25))\n",
    "for index, valid_image in enumerate(valid_images):\n",
    "    gray_image = \n",
    "    hist_gray_valid_X[index, :] = "
   ]
  },
  {
   "cell_type": "markdown",
   "metadata": {},
   "source": [
    "Score the classifier on the validation set"
   ]
  },
  {
   "cell_type": "code",
   "execution_count": 48,
   "metadata": {},
   "outputs": [
    {
     "name": "stdout",
     "output_type": "stream",
     "text": [
      "0.745\n"
     ]
    }
   ],
   "source": [
    "valid_score_gray = \n",
    "print(valid_score_gray)"
   ]
  },
  {
   "cell_type": "markdown",
   "metadata": {},
   "source": [
    "Calculate the test set features"
   ]
  },
  {
   "cell_type": "code",
   "execution_count": 49,
   "metadata": {},
   "outputs": [],
   "source": [
    "hist_gray_test_X = np.empty((len(test_images), 25))\n",
    "for index, test_image in enumerate(test_images):\n",
    "    gray_image = \n",
    "    hist_gray_test_X[index, :] = "
   ]
  },
  {
   "cell_type": "markdown",
   "metadata": {},
   "source": [
    "Score the classifier on the test set"
   ]
  },
  {
   "cell_type": "code",
   "execution_count": 51,
   "metadata": {},
   "outputs": [
    {
     "name": "stdout",
     "output_type": "stream",
     "text": [
      "0.754\n"
     ]
    }
   ],
   "source": [
    "test_score_gray = \n",
    "print(test_score_gray)"
   ]
  },
  {
   "cell_type": "markdown",
   "metadata": {},
   "source": [
    "Compare these scores to the average pixel value scores and think about why they might have changed."
   ]
  },
  {
   "cell_type": "markdown",
   "metadata": {},
   "source": [
    "## 3d Histogram of pixel values as features\n",
    "\n",
    "Now, we are going to try and get RGB bins instead of grayscale bins. \n",
    "\n",
    "For this, we can call `np.histogramdd`\n",
    "\n",
    "We want to use two of this function's parameters - the first receives a flat version of the image `image.reshape(-1, 3)`; the second receives the number of bins per channel\n",
    "    \n",
    "So, if we say `bins=5`, in total, we will have 5*5*5 = 125 bins, because we have 3 color channels\n",
    "\n",
    "Use the documentation to help with `np.histogramdd`\n",
    "\n",
    "`np.histogramdd` returns a multidimensional array of bin values, but we will flatten this into a 1d feature array"
   ]
  },
  {
   "cell_type": "code",
   "execution_count": 53,
   "metadata": {},
   "outputs": [
    {
     "name": "stdout",
     "output_type": "stream",
     "text": [
      "Help on function histogramdd in module numpy:\n",
      "\n",
      "histogramdd(sample, bins=10, range=None, normed=None, weights=None, density=None)\n",
      "    Compute the multidimensional histogram of some data.\n",
      "    \n",
      "    Parameters\n",
      "    ----------\n",
      "    sample : (N, D) array, or (D, N) array_like\n",
      "        The data to be histogrammed.\n",
      "    \n",
      "        Note the unusual interpretation of sample when an array_like:\n",
      "    \n",
      "        * When an array, each row is a coordinate in a D-dimensional space -\n",
      "          such as ``histogramgramdd(np.array([p1, p2, p3]))``.\n",
      "        * When an array_like, each element is the list of values for single\n",
      "          coordinate - such as ``histogramgramdd((X, Y, Z))``.\n",
      "    \n",
      "        The first form should be preferred.\n",
      "    \n",
      "    bins : sequence or int, optional\n",
      "        The bin specification:\n",
      "    \n",
      "        * A sequence of arrays describing the monotonically increasing bin\n",
      "          edges along each dimension.\n",
      "        * The number of bins for each dimension (nx, ny, ... =bins)\n",
      "        * The number of bins for all dimensions (nx=ny=...=bins).\n",
      "    \n",
      "    range : sequence, optional\n",
      "        A sequence of length D, each an optional (lower, upper) tuple giving\n",
      "        the outer bin edges to be used if the edges are not given explicitly in\n",
      "        `bins`.\n",
      "        An entry of None in the sequence results in the minimum and maximum\n",
      "        values being used for the corresponding dimension.\n",
      "        The default, None, is equivalent to passing a tuple of D None values.\n",
      "    density : bool, optional\n",
      "        If False, the default, returns the number of samples in each bin.\n",
      "        If True, returns the probability *density* function at the bin,\n",
      "        ``bin_count / sample_count / bin_volume``.\n",
      "    normed : bool, optional\n",
      "        An alias for the density argument that behaves identically. To avoid\n",
      "        confusion with the broken normed argument to `histogram`, `density`\n",
      "        should be preferred.\n",
      "    weights : (N,) array_like, optional\n",
      "        An array of values `w_i` weighing each sample `(x_i, y_i, z_i, ...)`.\n",
      "        Weights are normalized to 1 if normed is True. If normed is False,\n",
      "        the values of the returned histogram are equal to the sum of the\n",
      "        weights belonging to the samples falling into each bin.\n",
      "    \n",
      "    Returns\n",
      "    -------\n",
      "    H : ndarray\n",
      "        The multidimensional histogram of sample x. See normed and weights\n",
      "        for the different possible semantics.\n",
      "    edges : list\n",
      "        A list of D arrays describing the bin edges for each dimension.\n",
      "    \n",
      "    See Also\n",
      "    --------\n",
      "    histogram: 1-D histogram\n",
      "    histogram2d: 2-D histogram\n",
      "    \n",
      "    Examples\n",
      "    --------\n",
      "    >>> r = np.random.randn(100,3)\n",
      "    >>> H, edges = np.histogramdd(r, bins = (5, 8, 4))\n",
      "    >>> H.shape, edges[0].size, edges[1].size, edges[2].size\n",
      "    ((5, 8, 4), 6, 9, 5)\n",
      "\n"
     ]
    }
   ],
   "source": [
    "help(np.histogramdd)"
   ]
  },
  {
   "cell_type": "code",
   "execution_count": 54,
   "metadata": {},
   "outputs": [],
   "source": [
    "def calc_3d_hist_features(image, bins_per_dim = 5):\n",
    "    ### Your code here ##\n",
    "    flattened_image = image.reshape(-1, 3)\\\n",
    "    hist, _ = np.histogramdd(, bins=)\n",
    "    ##\n",
    "    return hist.flatten()"
   ]
  },
  {
   "cell_type": "markdown",
   "metadata": {},
   "source": [
    "Calculate the features for `train_images` with the function we just defined `calc_3d_hist_features`"
   ]
  },
  {
   "cell_type": "code",
   "execution_count": 5,
   "metadata": {},
   "outputs": [
    {
     "ename": "SyntaxError",
     "evalue": "invalid syntax (<ipython-input-5-e90d67778b8b>, line 3)",
     "output_type": "error",
     "traceback": [
      "\u001b[0;36m  File \u001b[0;32m\"<ipython-input-5-e90d67778b8b>\"\u001b[0;36m, line \u001b[0;32m3\u001b[0m\n\u001b[0;31m    hist_rgb_train_X[index, :] =\u001b[0m\n\u001b[0m                                 ^\u001b[0m\n\u001b[0;31mSyntaxError\u001b[0m\u001b[0;31m:\u001b[0m invalid syntax\n"
     ]
    }
   ],
   "source": [
    "hist_rgb_train_X = np.empty((len(train_images), 125))\n",
    "for index, train_image in enumerate(train_images):\n",
    "    hist_rgb_train_X[index, :] = "
   ]
  },
  {
   "cell_type": "markdown",
   "metadata": {},
   "source": [
    "Train the classifier on `hist_rgb_train_X` and `train_y`"
   ]
  },
  {
   "cell_type": "code",
   "execution_count": 65,
   "metadata": {},
   "outputs": [
    {
     "name": "stderr",
     "output_type": "stream",
     "text": [
      "/home/vflorenc/local-learning/lib/python3.6/site-packages/sklearn/linear_model/logistic.py:432: FutureWarning: Default solver will be changed to 'lbfgs' in 0.22. Specify a solver to silence this warning.\n",
      "  FutureWarning)\n"
     ]
    },
    {
     "name": "stdout",
     "output_type": "stream",
     "text": [
      "0.8048\n"
     ]
    }
   ],
   "source": [
    "cls = \n",
    "cls.\n",
    "train_score_rgb = \n",
    "print(train_score_rgb)"
   ]
  },
  {
   "cell_type": "markdown",
   "metadata": {},
   "source": [
    "Calculate the features for the validation set"
   ]
  },
  {
   "cell_type": "code",
   "execution_count": 66,
   "metadata": {},
   "outputs": [],
   "source": [
    "hist_rgb_valid_X = np.empty((len(valid_images), 125))\n",
    "for index, valid_image in enumerate(valid_images):\n",
    "    hist_rgb_valid_X[index, :] ="
   ]
  },
  {
   "cell_type": "markdown",
   "metadata": {},
   "source": [
    "Score the classifier on the validation set"
   ]
  },
  {
   "cell_type": "code",
   "execution_count": 67,
   "metadata": {},
   "outputs": [
    {
     "name": "stdout",
     "output_type": "stream",
     "text": [
      "0.802\n"
     ]
    }
   ],
   "source": [
    "valid_score_rgb = \n",
    "print(valid_score_rgb)"
   ]
  },
  {
   "cell_type": "markdown",
   "metadata": {},
   "source": [
    "Calculate the features for the test set"
   ]
  },
  {
   "cell_type": "code",
   "execution_count": 68,
   "metadata": {},
   "outputs": [],
   "source": [
    "hist_rgb_test_X = np.empty((len(test_images), 125))\n",
    "for index, test_image in enumerate(test_images):\n",
    "    hist_rgb_test_X[index, :] = "
   ]
  },
  {
   "cell_type": "markdown",
   "metadata": {},
   "source": [
    "Score the classifier on the test set"
   ]
  },
  {
   "cell_type": "code",
   "execution_count": 69,
   "metadata": {},
   "outputs": [
    {
     "name": "stdout",
     "output_type": "stream",
     "text": [
      "0.736\n"
     ]
    }
   ],
   "source": [
    "test_score_rgb =\n",
    "print(test_score_rgb)"
   ]
  },
  {
   "cell_type": "markdown",
   "metadata": {},
   "source": [
    "This result might seem a bit strange, but we will talk about why it is true.\n",
    "\n",
    "### Discussion Questions\n",
    "\n",
    "1. Why are the training/validation/test scores not always consistently higher/lower for each classifier?\n",
    "\n",
    "2. What features do you think will be more useful than the pixel values we've worked with so far? "
   ]
  },
  {
   "cell_type": "markdown",
   "metadata": {},
   "source": []
  }
 ],
 "metadata": {
  "kernelspec": {
   "display_name": "maskrcnn_benchmark",
   "language": "python",
   "name": "maskrcnn_benchmark"
  },
  "language_info": {
   "codemirror_mode": {
    "name": "ipython",
    "version": 3
   },
   "file_extension": ".py",
   "mimetype": "text/x-python",
   "name": "python",
   "nbconvert_exporter": "python",
   "pygments_lexer": "ipython3",
   "version": "3.6.5"
  }
 },
 "nbformat": 4,
 "nbformat_minor": 2
}
